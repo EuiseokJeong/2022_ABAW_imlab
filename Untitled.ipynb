{
 "cells": [
  {
   "cell_type": "code",
   "execution_count": 2,
   "id": "8be2a431",
   "metadata": {},
   "outputs": [
    {
     "name": "stderr",
     "output_type": "stream",
     "text": [
      "2022-10-31 07:34:13.049695: I tensorflow/core/platform/cpu_feature_guard.cc:193] This TensorFlow binary is optimized with oneAPI Deep Neural Network Library (oneDNN) to use the following CPU instructions in performance-critical operations:  SSE4.1 SSE4.2 AVX AVX2 AVX_VNNI FMA\n",
      "To enable them in other operations, rebuild TensorFlow with the appropriate compiler flags.\n",
      "2022-10-31 07:34:13.178865: I tensorflow/core/util/util.cc:169] oneDNN custom operations are on. You may see slightly different numerical results due to floating-point round-off errors from different computation orders. To turn them off, set the environment variable `TF_ENABLE_ONEDNN_OPTS=0`.\n"
     ]
    }
   ],
   "source": [
    "from utils import load_pickle"
   ]
  },
  {
   "cell_type": "code",
   "execution_count": 3,
   "id": "f0b2cb24",
   "metadata": {},
   "outputs": [],
   "source": [
    "tmp = load_pickle(\"/home/euiseokjeong/Desktop/IMLAB/journal/ABAW/2022_ABAW_imlab/data/result/2022_10_30_7_17_12/gen_1_val_result.pickle\")"
   ]
  },
  {
   "cell_type": "code",
   "execution_count": null,
   "id": "cbbc2467",
   "metadata": {},
   "outputs": [],
   "source": []
  },
  {
   "cell_type": "code",
   "execution_count": 50,
   "id": "c7c5c672",
   "metadata": {},
   "outputs": [
    {
     "data": {
      "text/plain": [
       "{'stride': 10,\n",
       " 'time_window': 2,\n",
       " 'data_path': '/home/euiseokjeong/Desktop/IMLAB/journal/ABAW/2022_ABAW_imlab/data',\n",
       " 'limit_gpu': 4608.0,\n",
       " 'gpu_num': 0,\n",
       " 'eval_path': '',\n",
       " 'epochs': 20,\n",
       " 'batch_size': 256,\n",
       " 'early_stop': 5,\n",
       " 'learning_rate': 0.0001,\n",
       " 'feature_extractor_layers': [1024, 512],\n",
       " 'classifier_layers': [256, 128],\n",
       " 'domain_layers': [64, 32],\n",
       " 'lstm_num': 512,\n",
       " 'dropout_rate': 0.5,\n",
       " 'temperature': 2.5,\n",
       " 'alpha': 10,\n",
       " 'beta': 0.9,\n",
       " 'gamma': 1,\n",
       " 'au_threshold': 0.5,\n",
       " 'task_weight_exp': 0.5,\n",
       " 'task_weight_flag': True,\n",
       " 'domain_weight': 0,\n",
       " 'adaptation_factor': 1,\n",
       " 'linear_domain_weight': True}"
      ]
     },
     "execution_count": 50,
     "metadata": {},
     "output_type": "execute_result"
    }
   ],
   "source": [
    "load_pickle('/home/euiseokjeong/Desktop/IMLAB/journal/ABAW/2022_ABAW_imlab/data/result/2022_10_29_18_26_35/saved_config.pickle')"
   ]
  },
  {
   "cell_type": "code",
   "execution_count": null,
   "id": "72168b79",
   "metadata": {},
   "outputs": [],
   "source": []
  }
 ],
 "metadata": {
  "kernelspec": {
   "display_name": "journal_tf",
   "language": "python",
   "name": "joural_tf"
  },
  "language_info": {
   "codemirror_mode": {
    "name": "ipython",
    "version": 3
   },
   "file_extension": ".py",
   "mimetype": "text/x-python",
   "name": "python",
   "nbconvert_exporter": "python",
   "pygments_lexer": "ipython3",
   "version": "3.8.13"
  }
 },
 "nbformat": 4,
 "nbformat_minor": 5
}
